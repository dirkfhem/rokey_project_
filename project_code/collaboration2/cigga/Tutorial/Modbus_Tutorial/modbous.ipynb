{
 "cells": [
  {
   "cell_type": "code",
   "execution_count": 9,
   "id": "8d4f7bd8",
   "metadata": {},
   "outputs": [],
   "source": [
    "#그리퍼 모듈 불러오기\n",
    "import time\n",
    "from onrobot import RG\n",
    "GRIPPER_NAME = 'rg2'\n",
    "TOOLCHARGER_IP = '192.168.1.1'\n",
    "TOOLCHARGER_PORT = '502'\n",
    "GRIPPER_FORCE=100\n",
    "\n",
    "gripper = RG(GRIPPER_NAME,TOOLCHARGER_IP,TOOLCHARGER_PORT)"
   ]
  },
  {
   "cell_type": "code",
   "execution_count": null,
   "id": "5fbb20cc",
   "metadata": {},
   "outputs": [],
   "source": []
  },
  {
   "cell_type": "code",
   "execution_count": 331,
   "id": "2c220b89",
   "metadata": {},
   "outputs": [
    {
     "name": "stdout",
     "output_type": "stream",
     "text": [
      "Start opening gripper.\n"
     ]
    }
   ],
   "source": [
    "gripper.open_gripper(GRIPPER_FORCE)"
   ]
  },
  {
   "cell_type": "code",
   "execution_count": 16,
   "id": "dcc657ad",
   "metadata": {},
   "outputs": [
    {
     "name": "stdout",
     "output_type": "stream",
     "text": [
      "Start closing gripper.\n"
     ]
    }
   ],
   "source": [
    "gripper.close_gripper(GRIPPER_FORCE)"
   ]
  },
  {
   "cell_type": "code",
   "execution_count": 458,
   "id": "561858ea",
   "metadata": {},
   "outputs": [
    {
     "name": "stdout",
     "output_type": "stream",
     "text": [
      "Start moving gripper.\n",
      "50.7\n"
     ]
    }
   ],
   "source": [
    "gripper.move_gripper(500,GRIPPER_FORCE)\n",
    "while gripper.get_status()[0]:\n",
    "    time.sleep(0.2)\n",
    "print(gripper.get_width_with_offset())"
   ]
  },
  {
   "cell_type": "code",
   "execution_count": 321,
   "id": "afb45d6e",
   "metadata": {},
   "outputs": [
    {
     "data": {
      "text/plain": [
       "[0, 0, 0, 0, 0, 0, 0]"
      ]
     },
     "execution_count": 321,
     "metadata": {},
     "output_type": "execute_result"
    }
   ],
   "source": [
    "gripper.get_status()\n"
   ]
  },
  {
   "cell_type": "code",
   "execution_count": null,
   "id": "977f6bf1",
   "metadata": {},
   "outputs": [
    {
     "name": "stdout",
     "output_type": "stream",
     "text": [
      "0.3\n",
      "Start opening gripper.\n",
      "A motion is ongoing so new commands are not accepted.\n",
      "A motion is ongoing so new commands are not accepted.\n",
      "A motion is ongoing so new commands are not accepted.\n",
      "A motion is ongoing so new commands are not accepted.\n",
      "A motion is ongoing so new commands are not accepted.\n",
      "A motion is ongoing so new commands are not accepted.\n",
      "A motion is ongoing so new commands are not accepted.\n",
      "101.4\n",
      "Start closing gripper.\n",
      "101.4\n",
      "A motion is ongoing so new commands are not accepted.\n",
      "A motion is ongoing so new commands are not accepted.\n",
      "A motion is ongoing so new commands are not accepted.\n",
      "A motion is ongoing so new commands are not accepted.\n",
      "A motion is ongoing so new commands are not accepted.\n",
      "A motion is ongoing so new commands are not accepted.\n",
      "A motion is ongoing so new commands are not accepted.\n",
      "An internal- or external grip is detected.\n",
      "0.1\n"
     ]
    }
   ],
   "source": [
    "\n",
    "gripper.get_fingertip_offset()\n",
    "print(gripper.get_width_with_offset())\n",
    "gripper.open_gripper()\n",
    "while gripper.get_status()[0]:\n",
    "    time.sleep(0.2)\n",
    "print(gripper.get_width_with_offset())\n",
    "gripper.close_gripper()\n",
    "print(gripper.get_width_with_offset())\n",
    "while gripper.get_status()[0]:\n",
    "    time.sleep(0.2)\n",
    "\n",
    "print(gripper.get_width_with_offset())"
   ]
  },
  {
   "cell_type": "code",
   "execution_count": null,
   "id": "82c4a0b4",
   "metadata": {},
   "outputs": [
    {
     "name": "stdout",
     "output_type": "stream",
     "text": [
      "A motion is ongoing so new commands are not accepted.\n",
      "Safety circuit 2 is activated so it will not move.\n",
      "Any of the safety switch is pushed.\n",
      "A motion is ongoing so new commands are not accepted.\n",
      "Safety circuit 2 is activated so it will not move.\n",
      "Any of the safety switch is pushed.\n",
      "A motion is ongoing so new commands are not accepted.\n",
      "Safety circuit 2 is activated so it will not move.\n",
      "Any of the safety switch is pushed.\n",
      "A motion is ongoing so new commands are not accepted.\n",
      "Safety circuit 2 is activated so it will not move.\n",
      "Any of the safety switch is pushed.\n",
      "A motion is ongoing so new commands are not accepted.\n",
      "Safety circuit 2 is activated so it will not move.\n",
      "Any of the safety switch is pushed.\n",
      "A motion is ongoing so new commands are not accepted.\n",
      "Safety circuit 2 is activated so it will not move.\n",
      "Any of the safety switch is pushed.\n",
      "A motion is ongoing so new commands are not accepted.\n",
      "Safety circuit 2 is activated so it will not move.\n",
      "Any of the safety switch is pushed.\n",
      "A motion is ongoing so new commands are not accepted.\n",
      "Safety circuit 2 is activated so it will not move.\n",
      "Any of the safety switch is pushed.\n",
      "A motion is ongoing so new commands are not accepted.\n",
      "Safety circuit 2 is activated so it will not move.\n",
      "Any of the safety switch is pushed.\n",
      "A motion is ongoing so new commands are not accepted.\n",
      "Safety circuit 2 is activated so it will not move.\n",
      "Any of the safety switch is pushed.\n",
      "A motion is ongoing so new commands are not accepted.\n",
      "Safety circuit 2 is activated so it will not move.\n",
      "Any of the safety switch is pushed.\n",
      "A motion is ongoing so new commands are not accepted.\n",
      "Safety circuit 2 is activated so it will not move.\n",
      "Any of the safety switch is pushed.\n",
      "A motion is ongoing so new commands are not accepted.\n",
      "Safety circuit 2 is activated so it will not move.\n",
      "Any of the safety switch is pushed.\n",
      "A motion is ongoing so new commands are not accepted.\n",
      "Safety circuit 2 is activated so it will not move.\n",
      "Any of the safety switch is pushed.\n",
      "A motion is ongoing so new commands are not accepted.\n",
      "Safety circuit 2 is activated so it will not move.\n",
      "Any of the safety switch is pushed.\n",
      "A motion is ongoing so new commands are not accepted.\n",
      "Safety circuit 2 is activated so it will not move.\n",
      "Any of the safety switch is pushed.\n",
      "A motion is ongoing so new commands are not accepted.\n",
      "Safety circuit 2 is activated so it will not move.\n",
      "Any of the safety switch is pushed.\n",
      "A motion is ongoing so new commands are not accepted.\n",
      "Safety circuit 2 is activated so it will not move.\n",
      "Any of the safety switch is pushed.\n",
      "A motion is ongoing so new commands are not accepted.\n",
      "Safety circuit 2 is activated so it will not move.\n",
      "Any of the safety switch is pushed.\n",
      "A motion is ongoing so new commands are not accepted.\n",
      "Safety circuit 2 is activated so it will not move.\n",
      "Any of the safety switch is pushed.\n",
      "A motion is ongoing so new commands are not accepted.\n",
      "Safety circuit 2 is activated so it will not move.\n",
      "Any of the safety switch is pushed.\n",
      "A motion is ongoing so new commands are not accepted.\n",
      "Safety circuit 2 is activated so it will not move.\n",
      "Any of the safety switch is pushed.\n",
      "A motion is ongoing so new commands are not accepted.\n",
      "Safety circuit 2 is activated so it will not move.\n",
      "Any of the safety switch is pushed.\n",
      "A motion is ongoing so new commands are not accepted.\n",
      "Safety circuit 2 is activated so it will not move.\n",
      "Any of the safety switch is pushed.\n",
      "A motion is ongoing so new commands are not accepted.\n",
      "Safety circuit 2 is activated so it will not move.\n",
      "Any of the safety switch is pushed.\n",
      "Safety circuit 2 is activated so it will not move.\n",
      "Any of the safety switch is pushed.\n"
     ]
    }
   ],
   "source": [
    "gripper.set_target_force(100)\n",
    "gripper.set_target_width(+100)\n",
    "gripper.set_control_mode(0x0001)\n",
    "while gripper.get_status()[0]:\n",
    "    time.sleep(0.2)\n",
    "gripper.set_target_force(400)\n",
    "gripper.set_target_width(1000)\n",
    "gripper.set_control_mode(0x0001)"
   ]
  }
 ],
 "metadata": {
  "kernelspec": {
   "display_name": "Python 3",
   "language": "python",
   "name": "python3"
  },
  "language_info": {
   "codemirror_mode": {
    "name": "ipython",
    "version": 3
   },
   "file_extension": ".py",
   "mimetype": "text/x-python",
   "name": "python",
   "nbconvert_exporter": "python",
   "pygments_lexer": "ipython3",
   "version": "3.10.12"
  }
 },
 "nbformat": 4,
 "nbformat_minor": 5
}
